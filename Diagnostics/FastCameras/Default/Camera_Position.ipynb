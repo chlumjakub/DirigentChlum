{
 "cells": [
  {
   "cell_type": "markdown",
   "metadata": {},
   "source": [
    "# Photron - Data processing"
   ]
  },
  {
   "cell_type": "code",
   "execution_count": 1,
   "metadata": {
    "scrolled": true
   },
   "outputs": [],
   "source": [
    "import os, glob\n",
    "import numpy as np\n",
    "import matplotlib.pyplot as plt\n",
    "import pandas as pd\n",
    "import requests\n",
    "from scipy import ndimage\n",
    "from PIL import Image\n",
    "from io import BytesIO\n",
    "from IPython.display import Markdown\n",
    "from IPython.display import Image as DispImage\n",
    "\n",
    "ds=np.DataSource()\n",
    "import cv2\n",
    "class StopExecution(Exception):\n",
    "    def _render_traceback_(self):\n",
    "        pass"
   ]
  },
  {
   "cell_type": "code",
   "execution_count": 2,
   "metadata": {},
   "outputs": [],
   "source": [
    "def remove_old(name):\n",
    "    if os.path.exists(name):\n",
    "        os.remove(name)\n",
    "        \n",
    "names = ['analysis.html', 'icon-fig.png','plasma_film_Radial.png','plasma_film_Vertical.png']\n",
    "for name in names:\n",
    "    remove_old(name)\n",
    "    \n",
    "if os.path.exists('Results/'):\n",
    "    file=glob.glob('Results/*')\n",
    "    for f in file:\n",
    "        os.remove(f)"
   ]
  },
  {
   "cell_type": "markdown",
   "metadata": {},
   "source": [
    "## Check camera availability"
   ]
  },
  {
   "cell_type": "code",
   "execution_count": null,
   "metadata": {},
   "outputs": [],
   "source": [
    "shot_no =0\n",
    "Vertical=True; Radial=True\n",
    "if not os.path.exists('Camera_Radial/Data.avi'):\n",
    "    Radial = False\n",
    "if not os.path.exists('Camera_Vertical/Data.avi'):\n",
    "    Vertical = False\n",
    "if not Vertical and not Radial: raise StopExecution"
   ]
  },
  {
   "cell_type": "markdown",
   "metadata": {},
   "source": [
    "## Source: .avi"
   ]
  },
  {
   "cell_type": "code",
   "execution_count": null,
   "metadata": {},
   "outputs": [],
   "source": [
    "\"\"\"\n",
    "FOV=238.08mm (WD=465mm, Sensor height=12.8mm, focal lenght=25mm), resolution=1280x56 => PxLength=238/1280\n",
    "Need FOV=170mm -> 238-170=68 -> s=68/PxLength-> frames[:,s//2:-s//2]\n",
    "\n",
    "Edit (17.5.2022)\n",
    "WD=415 mm \n",
    "\"\"\"\n",
    "FOV=238\n",
    "CutFrames=68\n",
    "PxLength=FOV/1280\n",
    "s=CutFrames/PxLength\n",
    "cut=int(s//2)\n",
    "\n",
    "\n",
    "def get_frame(file, Position='Radial'):\n",
    "    global nFrames\n",
    "    cv2.destroyAllWindows() \n",
    "    video = cv2.VideoCapture(file)\n",
    "    current=0\n",
    "    try:\n",
    "#         os.mkdir('Camera_'+Position)\n",
    "        os.mkdir('Camera_'+Position+'/Frames')\n",
    "    except FileExistsError:\n",
    "        filelist = glob.glob(os.path.join('Camera_'+Position+'/Frames/', \"*\"))\n",
    "        for f in filelist:\n",
    "            os.remove(f)\n",
    "\n",
    "    while (video.isOpened()):\n",
    "        ret, frame=video.read()\n",
    "        if ret: \n",
    "            name = 'Camera_' + Position + '/Frames/%i.png'%current\n",
    "            if Position == 'Radial':\n",
    "                cv2.imwrite(name, frame[28:-27,cut+150:-cut-150]) #frame[height,width]\n",
    "            else: \n",
    "                cv2.imwrite(name, frame[28:-27,cut+90:-cut-150]) #frame[height,width]\n",
    "            current += 1\n",
    "        else:\n",
    "            break\n",
    "    nFrames=current\n",
    "    video.release() \n",
    "    cv2.destroyAllWindows() \n",
    "    ret, frame=video.read()   \n",
    "    return \n",
    "\n",
    "get_frame('Camera_Radial/Data.avi','Radial') \n",
    "get_frame('Camera_Vertical/Data.avi','Vertical') "
   ]
  },
  {
   "cell_type": "code",
   "execution_count": null,
   "metadata": {},
   "outputs": [],
   "source": [
    "def img_shape(img_name,Position='Radial'):\n",
    "    img=cv2.imread('Camera_'+Position+'/Frames/%s.png'%img_name)\n",
    "    height=img.shape[0]\n",
    "    width=img.shape[1]\n",
    "    return height, width "
   ]
  },
  {
   "cell_type": "code",
   "execution_count": null,
   "metadata": {},
   "outputs": [],
   "source": [
    "def make_image(FramStart,FramEnd, Position = 'Radial'):\n",
    "    nFrames=FramEnd-FramStart\n",
    "    frames=[]   \n",
    "    width, height = img_shape('0',Position) #width is new height\n",
    "    \n",
    "    img_all = np.zeros((height, (FramEnd-FramStart)*width,3), np.uint8)\n",
    "    i=0\n",
    "    for frame in range(FramStart,FramEnd+1):\n",
    "        if Position == 'Radial':\n",
    "            img=cv2.rotate(cv2.imread('Camera_'+Position+f'/Frames/{frame}.png'),cv2.ROTATE_90_CLOCKWISE)    \n",
    "        elif Position == 'Vertical':\n",
    "            img=cv2.rotate(cv2.imread('Camera_'+Position+f'/Frames/{frame}.png'),cv2.ROTATE_90_CLOCKWISE)   \n",
    "        img_all[:height,i*width:(i+1)*width,:3]=img\n",
    "        i+=1\n",
    "    print('Height:', height, '\\nWidth:', width,'\\nimg_all shape',img_all.shape)\n",
    "    cv2.imwrite('plasma-film_' + Position + '.png',img_all)\n",
    "    \n",
    "    cv2.destroyAllWindows()"
   ]
  },
  {
   "cell_type": "markdown",
   "metadata": {},
   "source": [
    "## Plasma detection"
   ]
  },
  {
   "cell_type": "code",
   "execution_count": null,
   "metadata": {
    "scrolled": true
   },
   "outputs": [],
   "source": [
    "def plasma_detect(Position):\n",
    "    plasmaFrame=[]  \n",
    "    for frame in range(nFrames):\n",
    "        \n",
    "        img=plt.imread('Camera_' + Position + f'/Frames/{frame}.png')\n",
    "        rad=np.sum(img)\n",
    "        if rad>100:\n",
    "#             print(f'Plasma in frame no.{frame}','\\nRad=',rad) \n",
    "            plasmaFrame.append(frame)\n",
    "        \n",
    "    plasma_start=float(requests.get(f'http://golem.fjfi.cvut.cz/shots/{shot_no}/Diagnostics/PlasmaDetection/Results/t_plasma_start').text)\n",
    "    plasma_end=float(requests.get(f'http://golem.fjfi.cvut.cz/shots/{shot_no}/Diagnostics/PlasmaDetection/Results/t_plasma_end').text)\n",
    "    fStart = int(plasma_start*FPMS);fEnd=int(plasma_end*FPMS)+1\n",
    "    \n",
    "    if len(plasmaFrame)==0: \n",
    "        print(f'Plasma detection via camera {Position} failed')\n",
    "        return fStart,fEnd\n",
    "    if abs(fStart-plasmaFrame[0])>2: fStart=plasmaFrame[0]; print('plasma start detection via camera')   \n",
    "    if abs(fEnd-plasmaFrame[-1])>2: fEnd=plasmaFrame[-1];  print('plasma end detection via camera')   \n",
    "    return fStart, fEnd"
   ]
  },
  {
   "cell_type": "markdown",
   "metadata": {},
   "source": [
    "## Plasma Position"
   ]
  },
  {
   "cell_type": "code",
   "execution_count": null,
   "metadata": {},
   "outputs": [],
   "source": [
    "def plasma_position(shot_no, plasma_start, plasma_end, Position,fEnd,fStart,symb):\n",
    "    duration = float(plasma_end)-float(plasma_start)\n",
    "    data=np.sum(plt.imread('plasma-film_'+Position+'.png'),axis=2)\n",
    "    width, height = img_shape('0', Position) #width -> height\n",
    "    \n",
    "    nFrames=fEnd-fStart\n",
    "    r=[]\n",
    "    for i in range(data.shape[1]):\n",
    "        a=0\n",
    "        b=0\n",
    "        for j in range(data.shape[0]): \n",
    "            a += data[j,i]*j\n",
    "            b += data[j,i]\n",
    "        r_i=(a/b)*(-170/height)\n",
    "        if np.isnan(r_i):\n",
    "            r_i=-85 \n",
    "        r.append(r_i+85)\n",
    "    \n",
    "    camera_time = np.linspace(float(plasma_start), float(plasma_end), len(r))\n",
    "    plasma_position_data = pd.Series(r, index = camera_time)\n",
    "    \n",
    "    return plasma_position_data\n"
   ]
  },
  {
   "cell_type": "code",
   "execution_count": null,
   "metadata": {},
   "outputs": [],
   "source": [
    "FPS = 40000\n",
    "FPMS = FPS * 1e-3\n",
    "t_frame = 1 / FPMS #in ms\n",
    "\n",
    "def PositionAndImg():\n",
    "    if Radial and Vertical: Position = ['Radial', 'Vertical']; nRow = 2\n",
    "    elif Radial: Position = ['Radial']; symb = ['r'];nRow = 1\n",
    "    elif Vertical: Position = ['Vertical'];nRow = 1\n",
    "      \n",
    "    \n",
    "    fig, ax = plt.subplots(nRow, 1, figsize = (12,6), sharex = True)\n",
    "    if nRow == 1: ax = [ax]\n",
    "    PositionDict = {'Radial': 'r', 'Vertical': 'v'}\n",
    "    for i, (Position, symb) in zip(range(nRow), PositionDict.items()):    \n",
    "        \n",
    "        fStart, fEnd = plasma_detect(Position)    \n",
    "        CamStart = fStart * t_frame; CamEnd = fEnd * t_frame\n",
    "        \n",
    "        make_image(fStart, fEnd, Position)\n",
    "        plasma_position_camera = plasma_position(shot_no, CamStart, CamEnd, Position, fEnd, fStart, symb)     \n",
    "            \n",
    "        FONT = 'DejaVu Sans'\n",
    "        img = Image.open('plasma-film_'+Position+'.png')#.convert('1')\n",
    "        k=8\n",
    "        newsize = (img.size[0]*k, img.size[1])#*3) #resize image\n",
    "        print('newsize',newsize)\n",
    "        img = img.resize(newsize)\n",
    "        cv2.imwrite('plasma-film_' + Position + '2.png',np.asarray(img))\n",
    "        plasma_position_camera.plot(ax = ax[i], label = 'Fast Camera: '+ Position)\n",
    "\n",
    "        ax[i].set_ylabel('$\\Delta$'+symb+' [mm]',fontname = FONT, fontweight = 'bold', fontsize = 11)\n",
    "        ax[i].set_ylim(-85,85) \n",
    "\n",
    "        loclegend='best'\n",
    "        leg = ax[i].legend(loc = loclegend, shadow = True, fancybox=False) #with marker\n",
    "\n",
    "        leg.get_frame().set_linewidth(1)\n",
    "        leg.get_frame().set_edgecolor('k')\n",
    "        for text in leg.get_texts():\n",
    "              plt.setp(text, fontname=FONT, fontsize = 8)\n",
    "        for line, text in zip(leg.get_lines(), leg.get_texts()):\n",
    "              text.set_color(line.get_color())\n",
    "\n",
    "\n",
    "        plt.xticks(fontname=FONT, fontweight = 'bold', fontsize = 10)\n",
    "        plt.yticks(fontname=FONT, fontweight = 'bold', fontsize = 10)\n",
    "        \n",
    "        ax[i].tick_params(which = 'major', direction='out', length=6, width=1.5)\n",
    "        ax[i].tick_params(which = 'minor', direction='out', length=3, width=1)        \n",
    "\n",
    "        ax[i].spines['top'].set_visible(False)\n",
    "        ax[i].spines['right'].set_visible(False)\n",
    "\n",
    "        for axis in ['bottom','left']:\n",
    "            ax[i].spines[axis].set_linewidth(1.5)\n",
    "\n",
    "        from matplotlib.ticker import (MultipleLocator, FormatStrFormatter,\n",
    "                                AutoMinorLocator)\n",
    "        ax[i].xaxis.set_minor_locator(AutoMinorLocator(2))\n",
    "        ax[i].yaxis.set_minor_locator(AutoMinorLocator(2)) \n",
    "\n",
    "        ax[i].grid(which = 'major', c = 'gray', linewidth = 0.5, linestyle = 'solid') \n",
    "        ax[i].grid(which = 'minor', c = 'gray', linewidth = 0.3, linestyle = 'dashed') \n",
    "        # ax[1].set_xlim()\n",
    "        ax[i].axhline(y=0, color='k', ls='--', lw=1, alpha=0.4)\n",
    "\n",
    "        fig.savefig('icon-fig.png')    \n",
    "\n",
    "        print(Position)\n",
    "        savedata='Camera_'+Position+'/Camera'+Position+'Position'\n",
    "        plasma_position_camera.to_csv(savedata)\n",
    "        Markdown(\"[Plasma position camera data](./{})\".format(savedata))\n",
    "    ax[-1].set_xlabel('Time [ms]',fontname = FONT, fontweight = 'bold', fontsize = 11)\n",
    "    "
   ]
  },
  {
   "cell_type": "code",
   "execution_count": null,
   "metadata": {},
   "outputs": [],
   "source": [
    "PositionAndImg()"
   ]
  },
  {
   "cell_type": "code",
   "execution_count": null,
   "metadata": {},
   "outputs": [],
   "source": [
    "def icon_fig():\n",
    "    vert=plt.imread('plasma-film_Vertical2.png')\n",
    "    rad=plt.imread('plasma-film_Radial2.png')\n",
    "    maxlen=min(vert.shape[1],rad.shape[1])\n",
    "    stacked=np.vstack((rad[:,:maxlen,:],vert[:,:maxlen,:])) \n",
    "    plt.imshow(stacked)\n",
    "    img = cv2.convertScaleAbs(stacked, alpha=(255.0))\n",
    "    \n",
    "    font = cv2.FONT_HERSHEY_SIMPLEX; org = [(150, 200),((150, 800))]; fontScale = 4;color = (0, 0,255); thickness = 2\n",
    "    img = cv2.putText(img, 'Radial Position', org[0], font, fontScale, color, thickness, cv2.LINE_AA)\n",
    "    img = cv2.putText(img, 'Vertical Position', org[1], font, fontScale, color, thickness, cv2.LINE_AA)\n",
    "    \n",
    "    \n",
    "    y_org = [200, 550, 800, 1200]; name = ['LFS','HFS','top', 'bottom']\n",
    "    for n, y in zip(name, y_org):\n",
    "        img = cv2.putText(img, n, (maxlen-600, y), font, fontScale, color, thickness, cv2.LINE_AA)\n",
    "    \n",
    "    cv2.imwrite('ScreenShotAll.png',img)\n"
   ]
  },
  {
   "cell_type": "code",
   "execution_count": null,
   "metadata": {},
   "outputs": [],
   "source": [
    "if Vertical and Radial:\n",
    "    icon_fig()"
   ]
  },
  {
   "cell_type": "code",
   "execution_count": null,
   "metadata": {},
   "outputs": [],
   "source": [
    "fig, ax = plt.subplots(dpi=200)\n",
    "im=plt.imread('ScreenShotAll.png')\n",
    "# ax.axhline(im.shape[0]/4)\n",
    "# ax.axhline(im.shape[0]*3/4)\n",
    "plt.imshow(im)"
   ]
  },
  {
   "cell_type": "code",
   "execution_count": null,
   "metadata": {},
   "outputs": [],
   "source": []
  }
 ],
 "metadata": {
  "kernelspec": {
   "display_name": "Python 3 (ipykernel)",
   "language": "python",
   "name": "python3"
  },
  "language_info": {
   "codemirror_mode": {
    "name": "ipython",
    "version": 3
   },
   "file_extension": ".py",
   "mimetype": "text/x-python",
   "name": "python",
   "nbconvert_exporter": "python",
   "pygments_lexer": "ipython3",
   "version": "3.8.10"
  }
 },
 "nbformat": 4,
 "nbformat_minor": 4
}
